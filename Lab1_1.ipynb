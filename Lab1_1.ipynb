{
  "nbformat": 4,
  "nbformat_minor": 0,
  "metadata": {
    "colab": {
      "name": "Lab1_1.ipynb",
      "version": "0.3.2",
      "provenance": [],
      "toc_visible": true,
      "include_colab_link": true
    },
    "kernelspec": {
      "name": "python3",
      "display_name": "Python 3"
    },
    "accelerator": "GPU"
  },
  "cells": [
    {
      "cell_type": "markdown",
      "metadata": {
        "id": "view-in-github",
        "colab_type": "text"
      },
      "source": [
        "<a href=\"https://colab.research.google.com/github/illhyhl1111/SNU_ML2019/blob/master/Lab1_1.ipynb\" target=\"_parent\"><img src=\"https://colab.research.google.com/assets/colab-badge.svg\" alt=\"Open In Colab\"/></a>"
      ]
    },
    {
      "cell_type": "markdown",
      "metadata": {
        "id": "PMuN_nEY1qFr",
        "colab_type": "text"
      },
      "source": [
        "# Text Cell!\n",
        "* 마크다운 형식의 텍스트 셀입니다\n",
        "* docstring 등 여러 줄 주석을 효과적으로 시각화 할 수 있습니다\n",
        "* 마크다운 문법을 숙지하시고 사용하시면 좋습니다\n",
        "* https://heropy.blog/2017/09/30/markdown/"
      ]
    },
    {
      "cell_type": "code",
      "metadata": {
        "id": "s_Pu6n5i2aa7",
        "colab_type": "code",
        "outputId": "3da7406d-04ec-4949-f58a-772b769e93c2",
        "colab": {
          "base_uri": "https://localhost:8080/",
          "height": 34
        }
      },
      "source": [
        "# Code Cell!\n",
        "a = 1\n",
        "b = 2\n",
        "print(a+b)\n",
        "\n",
        "# Ctrl+Enter 로 해당 코드 셀 실행"
      ],
      "execution_count": 0,
      "outputs": [
        {
          "output_type": "stream",
          "text": [
            "3\n"
          ],
          "name": "stdout"
        }
      ]
    },
    {
      "cell_type": "code",
      "metadata": {
        "colab_type": "code",
        "outputId": "70878ded-e70c-4ac7-c7a1-b11a1d867ade",
        "id": "Gm956di9_1ZQ",
        "colab": {
          "base_uri": "https://localhost:8080/",
          "height": 34
        }
      },
      "source": [
        "# 각 셀은 한번에 실행할 단위를 뜻함\n",
        "# 실행 이후에도 메모리는 그대로 유지되어 다른 셀의 실행에 영향을 줌m\n",
        "a += 3\n",
        "b -= 1m\n",
        "print(a+b)"
      ],
      "execution_count": 0,
      "outputs": [
        {
          "output_type": "stream",
          "text": [
            "5\n"
          ],
          "name": "stdout"
        }
      ]
    },
    {
      "cell_type": "markdown",
      "metadata": {
        "id": "sXmwhWyrDbGg",
        "colab_type": "text"
      },
      "source": [
        "# 명령어 실행\n",
        "* **!(터미널 명령어)** 실행으로 터미널에서 명령어를 실행 시 출력 결과를 확인할 수 있음"
      ]
    },
    {
      "cell_type": "code",
      "metadata": {
        "id": "WM3qsQKh_3Wg",
        "colab_type": "code",
        "colab": {
          "base_uri": "https://localhost:8080/",
          "height": 316
        },
        "outputId": "926a6d91-7734-4b5d-d4f2-0b71be2331c7"
      },
      "source": [
        "# !cat /etc/issue.net  # OS\n",
        "# !cat /proc/cpuinfo   # CPU\n",
        "# !cat /proc/meminfo   # Memory\n",
        "# !df -h               # Disk\n",
        "!nvidia-smi          # GPU"
      ],
      "execution_count": 2,
      "outputs": [
        {
          "output_type": "stream",
          "text": [
            "Mon Sep 16 07:49:42 2019       \n",
            "+-----------------------------------------------------------------------------+\n",
            "| NVIDIA-SMI 430.40       Driver Version: 418.67       CUDA Version: 10.1     |\n",
            "|-------------------------------+----------------------+----------------------+\n",
            "| GPU  Name        Persistence-M| Bus-Id        Disp.A | Volatile Uncorr. ECC |\n",
            "| Fan  Temp  Perf  Pwr:Usage/Cap|         Memory-Usage | GPU-Util  Compute M. |\n",
            "|===============================+======================+======================|\n",
            "|   0  Tesla K80           Off  | 00000000:00:04.0 Off |                    0 |\n",
            "| N/A   52C    P8    32W / 149W |      0MiB / 11441MiB |      0%      Default |\n",
            "+-------------------------------+----------------------+----------------------+\n",
            "                                                                               \n",
            "+-----------------------------------------------------------------------------+\n",
            "| Processes:                                                       GPU Memory |\n",
            "|  GPU       PID   Type   Process name                             Usage      |\n",
            "|=============================================================================|\n",
            "|  No running processes found                                                 |\n",
            "+-----------------------------------------------------------------------------+\n"
          ],
          "name": "stdout"
        }
      ]
    },
    {
      "cell_type": "markdown",
      "metadata": {
        "id": "5wj6Tk6-ESUJ",
        "colab_type": "text"
      },
      "source": [
        "# 구글 드라이브 연동\n",
        "* 하단 코드 실행으로 구글 드라이브 내의 문서를 Colab에서 접근 가능하도록 연동\n",
        "* 좌측 화살표 -> 파일 -> content/drive/My Drive 폴더 안에 드라이브 연동\n",
        "* 가상머신 상에서 현재 경로는 `/content`"
      ]
    },
    {
      "cell_type": "code",
      "metadata": {
        "id": "9wc_oHn9EbOv",
        "colab_type": "code",
        "colab": {
          "base_uri": "https://localhost:8080/",
          "height": 125
        },
        "outputId": "53408c96-3d00-4b45-8c22-473a6cb81885"
      },
      "source": [
        "from google.colab import drive\n",
        "drive.mount('/content/drive')"
      ],
      "execution_count": 3,
      "outputs": [
        {
          "output_type": "stream",
          "text": [
            "Go to this URL in a browser: https://accounts.google.com/o/oauth2/auth?client_id=947318989803-6bn6qk8qdgf4n4g3pfee6491hc0brc4i.apps.googleusercontent.com&redirect_uri=urn%3Aietf%3Awg%3Aoauth%3A2.0%3Aoob&scope=email%20https%3A%2F%2Fwww.googleapis.com%2Fauth%2Fdocs.test%20https%3A%2F%2Fwww.googleapis.com%2Fauth%2Fdrive%20https%3A%2F%2Fwww.googleapis.com%2Fauth%2Fdrive.photos.readonly%20https%3A%2F%2Fwww.googleapis.com%2Fauth%2Fpeopleapi.readonly&response_type=code\n",
            "\n",
            "Enter your authorization code:\n",
            "··········\n",
            "Mounted at /content/drive\n"
          ],
          "name": "stdout"
        }
      ]
    },
    {
      "cell_type": "code",
      "metadata": {
        "id": "WiEJC6wXFBOy",
        "colab_type": "code",
        "colab": {
          "base_uri": "https://localhost:8080/",
          "height": 34
        },
        "outputId": "80558c5d-1369-4421-d706-d3e0c8f65a33"
      },
      "source": [
        "!pwd"
      ],
      "execution_count": 4,
      "outputs": [
        {
          "output_type": "stream",
          "text": [
            "/content\n"
          ],
          "name": "stdout"
        }
      ]
    },
    {
      "cell_type": "code",
      "metadata": {
        "id": "SofddUjuFHLE",
        "colab_type": "code",
        "colab": {
          "base_uri": "https://localhost:8080/",
          "height": 34
        },
        "outputId": "bfdc16e8-1ffc-4336-c774-7fc2d3e525c3"
      },
      "source": [
        "!ls 'drive/My Drive/Colab Notebooks'"
      ],
      "execution_count": 5,
      "outputs": [
        {
          "output_type": "stream",
          "text": [
            "deep_q_learning.ipynb  Lab1_1.ipynb  Untitled0.ipynb\n"
          ],
          "name": "stdout"
        }
      ]
    },
    {
      "cell_type": "markdown",
      "metadata": {
        "id": "EGGNfGx5HUQU",
        "colab_type": "text"
      },
      "source": [
        "# Github 연동\n",
        "* 단일 .ipynb 파일을 clone 하는 방법\n",
        "  * `https://github.com/~~~` 부분을 `https://colab.research.google.com/github/~~~` 로 교체\n",
        "* github repository를 드라이브에 clone하는 방법\n",
        "  * "
      ]
    },
    {
      "cell_type": "code",
      "metadata": {
        "id": "riDYOVHPI4VF",
        "colab_type": "code",
        "colab": {}
      },
      "source": [
        "!git clone https://github.com/illhyhl1111/SNU_ML2019 'drive/My Drive/Colab Notebooks/SNU_ML2019'"
      ],
      "execution_count": 0,
      "outputs": []
    },
    {
      "cell_type": "code",
      "metadata": {
        "id": "S4l-W-9BJHsG",
        "colab_type": "code",
        "colab": {}
      },
      "source": [
        "!git pull 'drive/My Drive/Colab Notebooks/SNU_ML2019'"
      ],
      "execution_count": 0,
      "outputs": []
    }
  ]
}