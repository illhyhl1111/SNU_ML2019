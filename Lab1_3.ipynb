{
  "nbformat": 4,
  "nbformat_minor": 0,
  "metadata": {
    "colab": {
      "name": "Lab1_3.ipynb",
      "provenance": [],
      "collapsed_sections": [],
      "include_colab_link": true
    },
    "kernelspec": {
      "name": "python3",
      "display_name": "Python 3"
    },
    "accelerator": "GPU"
  },
  "cells": [
    {
      "cell_type": "markdown",
      "metadata": {
        "id": "view-in-github",
        "colab_type": "text"
      },
      "source": [
        "<a href=\"https://colab.research.google.com/github/illhyhl1111/SNU_ML2019/blob/master/Lab1_3.ipynb\" target=\"_parent\"><img src=\"https://colab.research.google.com/assets/colab-badge.svg\" alt=\"Open In Colab\"/></a>"
      ]
    },
    {
      "cell_type": "markdown",
      "metadata": {
        "id": "PHw9y9NE2KO0",
        "colab_type": "text"
      },
      "source": [
        "### Logic Gate Example"
      ]
    },
    {
      "cell_type": "code",
      "metadata": {
        "id": "rnPX32EJ0H3S",
        "colab_type": "code",
        "colab": {}
      },
      "source": [
        "import torch\n",
        "import torch.nn as nn\n",
        "from torch.optim import Adam\n",
        "from torch.utils.data.dataset import Dataset\n",
        "from torch.utils.data import DataLoader\n",
        "import numpy as np\n",
        "import matplotlib.pyplot as plt"
      ],
      "execution_count": 0,
      "outputs": []
    },
    {
      "cell_type": "markdown",
      "metadata": {
        "id": "PQe9dG2n6DsL",
        "colab_type": "text"
      },
      "source": [
        "#### class Separator\n",
        "- variables : a,b,c (initialize with Norm(0,1))\n",
        "- func : activation functions (such as sigmoid, relu, except softmax)\n",
        "- inputs : x,y point\n",
        "- output : val_"
      ]
    },
    {
      "cell_type": "code",
      "metadata": {
        "id": "tBa6iTU-1byh",
        "colab_type": "code",
        "colab": {}
      },
      "source": [
        "class Separator(nn.Module):\n",
        "  def __init__(self, func = None):\n",
        "    super(Separator, self).__init__()\n",
        "    self.a = torch.nn.Parameter(torch.Tensor([np.random.normal()]))\n",
        "    self.b = torch.nn.Parameter(torch.Tensor([np.random.normal()]))\n",
        "    self.c = torch.nn.Parameter(torch.Tensor([np.random.normal()]))\n",
        "    if func is not None:\n",
        "      self.func = func\n",
        "    else:\n",
        "      self.func = torch.sigmoid\n",
        "    \n",
        "  def forward(self,x,y):\n",
        "    val_ = self.func(self.a * x + self.b * y - self.c)\n",
        "    return val_, (self.a.item(), self.b.item(), self.c.item())"
      ],
      "execution_count": 0,
      "outputs": []
    },
    {
      "cell_type": "markdown",
      "metadata": {
        "id": "Tvhg23W4rf3H",
        "colab_type": "text"
      },
      "source": [
        "#### dataset DataGenerator\n",
        "- dataset : (x,y), validate\n",
        "- x,y are picked from {0,1} with gaussian error N(0,0.5^2)"
      ]
    },
    {
      "cell_type": "code",
      "metadata": {
        "id": "5b8zpv4Grjt_",
        "colab_type": "code",
        "colab": {}
      },
      "source": [
        "class DataGenerator(Dataset):\n",
        "  \n",
        "  def __init__(self,type_,length,custom=None):\n",
        "    self.length=length\n",
        "    if type_ == 'and':\n",
        "      self.val_l = [0,0,0,1]\n",
        "    elif type_ == 'or':\n",
        "      self.val_l = [0,1,1,1]\n",
        "    elif type_ == 'xor':\n",
        "      self.val_l = [0,1,1,0]\n",
        "    elif type_ == 'custom' and custom is not None:\n",
        "      self.val_l = custom\n",
        "    else:\n",
        "      self.val_l = [0,0,0,0]\n",
        "      \n",
        "    self.dataset = []\n",
        "    for i in range(length):\n",
        "      x = np.random.normal(i%2,0.16)\n",
        "      y = np.random.normal((i//2)%2,0.16)\n",
        "      val = self.val_l[i%4]\n",
        "      self.dataset.append((x,y,val))\n",
        "\n",
        "  def get_dataset(self):\n",
        "    return self.dataset\n",
        "      \n",
        "  def __len__(self):\n",
        "    return self.length\n",
        "            \n",
        "  def __getitem__(self,idx):\n",
        "    x,y,val = self.dataset[idx]\n",
        "    return (torch.Tensor([x]),torch.Tensor([y]), torch.Tensor([val]))"
      ],
      "execution_count": 0,
      "outputs": []
    },
    {
      "cell_type": "markdown",
      "metadata": {
        "id": "CZisxdKVlWqO",
        "colab_type": "text"
      },
      "source": [
        "#### Hyperparameters & Dataset\n"
      ]
    },
    {
      "cell_type": "code",
      "metadata": {
        "id": "R9J1h1kCy1CT",
        "colab_type": "code",
        "colab": {}
      },
      "source": [
        "DATASET = DataGenerator('and',1000)\n",
        "LEARNING_RATE = 0.01\n",
        "BATCH_SIZE = 20\n",
        "NUM_EPOCHES = 20\n",
        "NUM_WORKERS = 4\n",
        "GRAPH_X = np.linspace(-1.0,2,2)\n",
        "\n",
        "params = {\n",
        "    'batch_size': BATCH_SIZE,\n",
        "    'shuffle': True,\n",
        "    'num_workers': 4,\n",
        "}\n",
        "\n",
        "dataloader = DataLoader(DATASET,**params)\n",
        "model = Separator().cuda()\n",
        "optimizer = Adam(model.parameters(), lr=LEARNING_RATE)"
      ],
      "execution_count": 0,
      "outputs": []
    },
    {
      "cell_type": "markdown",
      "metadata": {
        "id": "dHjDwjn_98Lm",
        "colab_type": "text"
      },
      "source": [
        "#### Training part"
      ]
    },
    {
      "cell_type": "code",
      "metadata": {
        "id": "O2NElMc44nEy",
        "colab_type": "code",
        "colab": {}
      },
      "source": [
        "for epoch in range(NUM_EPOCHES):\n",
        "  tot_loss = 0\n",
        "  for x, y, val in dataloader:\n",
        "    x = x.cuda()\n",
        "    y = y.cuda()\n",
        "    val = val.cuda()\n",
        "    optimizer.zero_grad()\n",
        "    val_, params = model(x,y)\n",
        "    loss = torch.sum(torch.pow(val-val_,2))\n",
        "    \n",
        "    loss.backward()\n",
        "    optimizer.step()\n",
        "    tot_loss+=loss.item()\n",
        "  print(\"Loss : {:.5f}\".format(tot_loss/len(DATASET)))\n",
        "\n",
        "  if epoch % 5 == 4:\n",
        "    for item in DATASET.get_dataset():\n",
        "      x,y,val = item\n",
        "      if val ==1:\n",
        "        plt.scatter(x,y,c='red')\n",
        "      else:\n",
        "        plt.scatter(x,y,c='blue')\n",
        "    plt.plot(GRAPH_X,-(GRAPH_X*params[0]-params[2])/(params[1]+1e-10))\n",
        "    plt.show()"
      ],
      "execution_count": 0,
      "outputs": []
    }
  ]
}